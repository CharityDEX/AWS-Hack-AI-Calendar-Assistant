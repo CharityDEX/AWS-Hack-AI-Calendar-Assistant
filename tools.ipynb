{
 "cells": [
  {
   "cell_type": "code",
   "execution_count": 39,
   "metadata": {},
   "outputs": [],
   "source": [
    "from datetime import datetime, timedelta, timezone\n",
    "from google.oauth2 import service_account\n",
    "from googleapiclient.discovery import build\n",
    "from google.oauth2.credentials import Credentials\n",
    "from google_auth_oauthlib.flow import InstalledAppFlow\n",
    "from google.auth.transport.requests import Request\n",
    "import base64\n",
    "from email.mime.text import MIMEText\n",
    "import os"
   ]
  },
  {
   "cell_type": "code",
   "execution_count": 70,
   "metadata": {},
   "outputs": [],
   "source": [
    "\n",
    "CREDENTIALS_OAUTH = \"credentials-oauth.json\"\n",
    "TOKEN_FILE = \"token.json\"\n",
    "SCOPES = ['https://www.googleapis.com/auth/calendar', 'https://www.googleapis.com/auth/gmail.readonly', 'https://www.googleapis.com/auth/gmail.send']"
   ]
  },
  {
   "cell_type": "code",
   "execution_count": 71,
   "metadata": {},
   "outputs": [],
   "source": [
    "def authenticate_user():\n",
    "    creds = None\n",
    "\n",
    "    # Load existing credentials from file if available\n",
    "    if os.path.exists(TOKEN_FILE):\n",
    "        creds = Credentials.from_authorized_user_file(TOKEN_FILE, SCOPES)\n",
    "\n",
    "    # If there are no valid credentials, run the OAuth flow\n",
    "    if not creds or not creds.valid:\n",
    "        if creds and creds.expired and creds.refresh_token:\n",
    "            creds.refresh(Request())\n",
    "        else:\n",
    "            flow = InstalledAppFlow.from_client_secrets_file(CREDENTIALS_OAUTH, SCOPES)\n",
    "            creds = flow.run_local_server(port=8080)\n",
    "\n",
    "        # Save the credentials for the next run\n",
    "        with open(TOKEN_FILE, 'w') as token_file:\n",
    "            token_file.write(creds.to_json())\n",
    "\n",
    "    return creds"
   ]
  },
  {
   "cell_type": "code",
   "execution_count": 72,
   "metadata": {},
   "outputs": [
    {
     "name": "stdout",
     "output_type": "stream",
     "text": [
      "Please visit this URL to authorize this application: https://accounts.google.com/o/oauth2/auth?response_type=code&client_id=1010614541530-f1qbtoc2jdf93al918lulholfh9lhh93.apps.googleusercontent.com&redirect_uri=http%3A%2F%2Flocalhost%3A8080%2F&scope=https%3A%2F%2Fwww.googleapis.com%2Fauth%2Fcalendar+https%3A%2F%2Fwww.googleapis.com%2Fauth%2Fgmail.readonly+https%3A%2F%2Fwww.googleapis.com%2Fauth%2Fgmail.send&state=91I71vuI3ZtZF3dbTSwGGNRq8D1aA0&access_type=offline\n"
     ]
    }
   ],
   "source": [
    "creds = authenticate_user()\n",
    "calendar_service = build('calendar', 'v3', credentials=creds)\n",
    "email_service = build('gmail', 'v1', credentials=creds)"
   ]
  },
  {
   "cell_type": "code",
   "execution_count": 43,
   "metadata": {},
   "outputs": [],
   "source": [
    "date_format = \"%Y-%m-%d %H:%M:%S\""
   ]
  },
  {
   "cell_type": "code",
   "execution_count": 44,
   "metadata": {},
   "outputs": [],
   "source": [
    "def dates_to_strings(dates):\n",
    "    string_tuples = []\n",
    "    for slot_start, slot_end in dates:\n",
    "        string_tuples.append((slot_start.strftime(date_format), slot_end.strftime(date_format)))\n",
    "        \n",
    "    return string_tuples"
   ]
  },
  {
   "cell_type": "code",
   "execution_count": 45,
   "metadata": {},
   "outputs": [],
   "source": [
    "def pst_to_utc(pst_datetime):\n",
    "    \"\"\"Convert a naive datetime object from PST (UTC-8) to naive UTC.\"\"\"\n",
    "    # Define the UTC offset for PST (UTC-8)\n",
    "    pst_offset = timedelta(hours=8)\n",
    "    \n",
    "    # Localize the naive datetime to PST and convert it to UTC\n",
    "    utc_time = pst_datetime + pst_offset\n",
    "    \n",
    "    # Return as naive UTC datetime (without tzinfo)\n",
    "    return utc_time\n",
    "\n",
    "def utc_to_pst(utc_datetime):\n",
    "    \"\"\"Convert a naive datetime object from UTC to naive PST (UTC-8).\"\"\"\n",
    "    # Define the UTC offset for PST (UTC-8)\n",
    "    pst_offset = timedelta(hours=-8)\n",
    "    \n",
    "    # Localize the naive datetime to UTC and convert it to PST\n",
    "    pst_time = utc_datetime + pst_offset\n",
    "    \n",
    "    # Return as naive PST datetime (without tzinfo)\n",
    "    return pst_time"
   ]
  },
  {
   "cell_type": "code",
   "execution_count": 46,
   "metadata": {},
   "outputs": [
    {
     "name": "stdout",
     "output_type": "stream",
     "text": [
      "2024-11-13 17:00:00\n",
      "2024-11-13 19:00:00\n"
     ]
    }
   ],
   "source": [
    "print(pst_to_utc(datetime.strptime(\"2024-11-13 09:00:00\", date_format)))\n",
    "print(pst_to_utc(datetime.strptime(\"2024-11-13 11:00:00\", date_format)))"
   ]
  },
  {
   "cell_type": "code",
   "execution_count": 11,
   "metadata": {},
   "outputs": [],
   "source": [
    "from langchain.tools import BaseTool, StructuredTool, tool"
   ]
  },
  {
   "cell_type": "code",
   "execution_count": null,
   "metadata": {},
   "outputs": [],
   "source": [
    "def get_availability_slots(participant_emails: list[str], meeting_interval_start_date: str, meeting_interval_end_date: str, meeting_duration_minutes: int) -> list[tuple[str]]:\n",
    "    '''Finds the available time slots that are free for all involved peers / attendees. Will automatically return time slots that meet the meeting duration time and are available for all participants. Takes a list of participant emails. Don't forget to include the email of the organizer! Will return a list of tuples of datetime strings, representing the start and end of each open interval. Will look for slots only in the provided time window. Please provide proper datetime strings in the format YYYY-mm-dd HH:mm:ss for the interval start and end times. Please be thorough and consider all responses when using this data, every single time slot could be critical! If you are asked to choose some of these slots for meetings, please provide what you think would be the most convenient ones.'''\n",
    "\n",
    "    start_date = datetime.strptime(meeting_interval_start_date, date_format)\n",
    "    end_date = datetime.strptime(meeting_interval_end_date, date_format)\n",
    "\n",
    "    start_date = pst_to_utc(start_date)\n",
    "    end_date = pst_to_utc(end_date)\n",
    "\n",
    "    # Prepare the request body for free/busy query\n",
    "    body = {\n",
    "        \"timeMin\": start_date.isoformat() + \"Z\", # Z is for UTC\n",
    "        \"timeMax\": end_date.isoformat() + \"Z\",\n",
    "        \"items\": [{\"id\": email} for email in participant_emails]\n",
    "    }\n",
    "\n",
    "    freebusy_result = calendar_service.freebusy().query(body=body).execute()\n",
    "    #print(freebusy_result)\n",
    "\n",
    "    # Collect all busy periods for each calendar\n",
    "    all_busy_periods = []\n",
    "    for calendar in freebusy_result['calendars'].values():\n",
    "        for busy_period in calendar.get('busy', []):\n",
    "            busy_start = datetime.fromisoformat(busy_period['start'][:-1])  # Remove 'Z' for parsing\n",
    "            busy_end = datetime.fromisoformat(busy_period['end'][:-1])\n",
    "            all_busy_periods.append((busy_start, busy_end))\n",
    "\n",
    "    # TODO implement blocking for non-working hours\n",
    "\n",
    "    # Sort all busy periods and merge overlapping ones\n",
    "    all_busy_periods.sort()\n",
    "    merged_busy_periods = []\n",
    "    for busy_start, busy_end in all_busy_periods:\n",
    "        if not merged_busy_periods or merged_busy_periods[-1][1] < busy_start:\n",
    "            merged_busy_periods.append((busy_start, busy_end))\n",
    "        else:\n",
    "            merged_busy_periods[-1] = (merged_busy_periods[-1][0], max(merged_busy_periods[-1][1], busy_end))\n",
    "\n",
    "    # Find available slots between merged busy periods\n",
    "    available_slots = []\n",
    "    current_start = start_date\n",
    "    for busy_start, busy_end in merged_busy_periods:\n",
    "        if busy_start - current_start >= timedelta(minutes=meeting_duration_minutes):\n",
    "            available_slots.append((utc_to_pst(current_start), utc_to_pst(busy_start)))\n",
    "        current_start = busy_end\n",
    "\n",
    "    # Check if there's room after the last busy period\n",
    "    if end_date - current_start >= timedelta(minutes=meeting_duration_minutes):\n",
    "        available_slots.append((utc_to_pst(current_start), utc_to_pst(end_date)))\n",
    "\n",
    "    # TODO last appended is null for some reason\n",
    "    return dates_to_strings(available_slots)"
   ]
  },
  {
   "cell_type": "code",
   "execution_count": 15,
   "metadata": {},
   "outputs": [
    {
     "name": "stdout",
     "output_type": "stream",
     "text": [
      "('2024-11-13 16:00:00', '2024-11-13 17:00:00')\n",
      "('2024-11-13 20:00:00', '2024-11-13 23:30:00')\n",
      "('2024-11-13 23:30:00', '2024-11-14 10:00:00')\n",
      "3\n"
     ]
    }
   ],
   "source": [
    "slots = get_availability_slots([\"sfigueira@scu.edu\", \"swu12@scu.edu\"], \"2024-11-13 09:00:00\", \"2024-11-14 20:00:00\", 45)\n",
    "for s in slots:\n",
    "    print(s)\n",
    "print(len(slots))"
   ]
  },
  {
   "cell_type": "code",
   "execution_count": 186,
   "metadata": {},
   "outputs": [],
   "source": [
    "from langgraph.prebuilt import create_react_agent\n",
    "from langchain_openai import ChatOpenAI\n",
    "from dotenv import load_dotenv\n",
    "load_dotenv()\n",
    "\n",
    "model = ChatOpenAI(model=\"gpt-4o-mini\", temperature=0)\n",
    "tools = [get_availability_slots]\n",
    "react_graph = create_react_agent(model=model, tools=tools)"
   ]
  },
  {
   "cell_type": "code",
   "execution_count": 188,
   "metadata": {},
   "outputs": [],
   "source": [
    "response = react_graph.invoke({\"messages\": [(\"user\", \"I really want to schedule a 40 minute meeting with sfigueira@scu.edu and swu12@scu.edu sometime this week (it is currently november 12, 2024) can you help me? I want to meet between 9 am and no later than 6 pm. I don't want to meet on weekends. My email is aanokh@scu.edu. Help me!\")]})"
   ]
  },
  {
   "cell_type": "code",
   "execution_count": 189,
   "metadata": {},
   "outputs": [
    {
     "name": "stdout",
     "output_type": "stream",
     "text": [
      "Here are the available time slots for a 40-minute meeting between you and your colleagues this week:\n",
      "\n",
      "### Available Time Slots:\n",
      "1. **November 12, 2024**: 5:00 PM - 5:40 PM\n",
      "2. **November 13, 2024**: 9:00 AM - 9:40 AM\n",
      "3. **November 13, 2024**: 4:00 PM - 4:40 PM\n",
      "4. **November 14, 2024**: 10:00 AM - 10:40 AM\n",
      "5. **November 15, 2024**: 6:00 PM - 6:40 PM\n",
      "6. **November 16, 2024**: 2:00 PM - 2:40 PM\n",
      "7. **November 16, 2024**: 4:00 PM - 4:40 PM\n",
      "8. **November 17, 2024**: 5:00 PM - 5:40 PM\n",
      "\n",
      "Please let me know which time slot works best for you!\n"
     ]
    }
   ],
   "source": [
    "print(response[\"messages\"][3].content)"
   ]
  },
  {
   "cell_type": "code",
   "execution_count": 194,
   "metadata": {},
   "outputs": [],
   "source": [
    "response[\"messages\"] += (\"user\", \"eh whatever, i dont want to meat with swu anymore, but i need this meeting urgent until the 14th at midnight. can you arrange that?\")\n",
    "response = react_graph.invoke(response)"
   ]
  },
  {
   "cell_type": "code",
   "execution_count": 200,
   "metadata": {},
   "outputs": [
    {
     "name": "stdout",
     "output_type": "stream",
     "text": [
      "Here are the available time slots for a 40-minute meeting with you, sfigueira@scu.edu, and lamlicke@scu.edu before midnight on November 14, 2024:\n",
      "\n",
      "### Available Time Slots:\n",
      "1. **November 12, 2024**: 9:00 AM - 9:40 AM\n",
      "2. **November 12, 2024**: 5:00 PM - 5:40 PM\n",
      "3. **November 13, 2024**: 4:00 PM - 4:40 PM\n",
      "4. **November 14, 2024**: 9:00 AM - 9:40 AM\n",
      "5. **November 14, 2024**: 3:00 PM - 3:40 PM\n",
      "6. **November 14, 2024**: 6:00 PM - 6:40 PM\n",
      "\n",
      "Please let me know which time slot works best for you!\n"
     ]
    }
   ],
   "source": [
    "print(response[\"messages\"][13].content)"
   ]
  },
  {
   "cell_type": "code",
   "execution_count": 6,
   "metadata": {},
   "outputs": [],
   "source": [
    "from dotenv import load_dotenv\n",
    "import os\n",
    "load_dotenv()\n",
    "from langchain_aws import ChatBedrock\n",
    "\n",
    "llm = ChatBedrock(\n",
    "    model_id=\"anthropic.claude-3-5-sonnet-20241022-v2:0\",\n",
    "    model_kwargs=dict(temperature=0),\n",
    "    aws_access_key_id=os.environ[\"AWS_ACCESS_KEY_ID\"],\n",
    "    aws_secret_access_key=os.environ[\"AWS_SECRET_ACCESS_KEY\"],\n",
    "    region_name=\"us-west-2\"\n",
    "    # other params...\n",
    ")"
   ]
  },
  {
   "cell_type": "code",
   "execution_count": 7,
   "metadata": {},
   "outputs": [
    {
     "data": {
      "text/plain": [
       "AIMessage(content=\"I'm Claude, an AI assistant created by Anthropic. I aim to be direct and honest in my interactions. How can I help you today?\", additional_kwargs={'usage': {'prompt_tokens': 13, 'completion_tokens': 34, 'total_tokens': 47}, 'stop_reason': 'end_turn', 'model_id': 'anthropic.claude-3-5-sonnet-20241022-v2:0'}, response_metadata={'usage': {'prompt_tokens': 13, 'completion_tokens': 34, 'total_tokens': 47}, 'stop_reason': 'end_turn', 'model_id': 'anthropic.claude-3-5-sonnet-20241022-v2:0'}, id='run-0c4d197f-f66a-40d1-839e-5b6030f0e78a-0', usage_metadata={'input_tokens': 13, 'output_tokens': 34, 'total_tokens': 47})"
      ]
     },
     "execution_count": 7,
     "metadata": {},
     "output_type": "execute_result"
    }
   ],
   "source": [
    "llm.invoke(\"hello, who are you?\")"
   ]
  },
  {
   "cell_type": "code",
   "execution_count": 32,
   "metadata": {},
   "outputs": [],
   "source": [
    "def poll_for_messages_from_sender(service, last_check_time, sender_email):\n",
    "    # Filter messages by sender and time\n",
    "    query = f'after:{int(last_check_time.timestamp())} from:{sender_email}'\n",
    "    response = service.users().messages().list(\n",
    "        userId='me',\n",
    "        q=query\n",
    "    ).execute()\n",
    "\n",
    "    messages = response.get('messages', [])\n",
    "    for msg in messages:\n",
    "        msg_id = msg['id']\n",
    "        msg_details = service.users().messages().get(userId='me', id=msg_id).execute()\n",
    "        print(f\"New message from {sender_email}: {msg_details['snippet']}\")  # Process message content here"
   ]
  },
  {
   "cell_type": "code",
   "execution_count": 33,
   "metadata": {},
   "outputs": [],
   "source": [
    "from datetime import UTC"
   ]
  },
  {
   "cell_type": "code",
   "execution_count": 39,
   "metadata": {},
   "outputs": [
    {
     "name": "stdout",
     "output_type": "stream",
     "text": [
      "New message from transportation@scu.edu: Hi SCU Student Community, We are excited to invite you to CSS and P&amp;TS&#39;s 2nd Annual Friendsgiving celebration! Enjoy some delicious food, good company, and a festive atmosphere as we celebrate\n",
      "New message from transportation@scu.edu: The First-year Winter Quarter Hardship Application will be open starting 11/23/24 - 12/23/24. All qualifying students may apply on their AIMS tile from their MySCU Portal. Please read the information\n",
      "New message from transportation@scu.edu: Trouble viewing this email? Read it online. Newsletter November 6, 2024 Join the listserv! Spread the word! We are sending announcements through the Announcements list. Please refer colleagues to\n",
      "New message from transportation@scu.edu: Trouble viewing this email? Read it online. Newsletter October 2024 Parking &amp; Transportation Services (P&amp;TS) Welcome Our New Parking Staff Member, Ted Mielke! Please welcome our new Parking\n",
      "New message from transportation@scu.edu: Dear Bronco Community, We wish to inform you that on Monday, October 14th, the North Campus Garage will be closed from 7:00 AM to 3:00 PM due to the Bird Solar Project. On this date, our construction\n",
      "New message from transportation@scu.edu: Dear Bronco Community, The North Campus Garage will be closed on Saturday, September 28th, 2024, from 6:00 AM to 1:00 PM for maintenance. A crane will be operating on the East entrance (The Alameda) of\n",
      "New message from transportation@scu.edu: Campus Community: Please be aware that certain areas and lots on campus will be closed Friday, September 20 through Sunday, September 22, 2024 for Residence Hall Move-In. The following streets will be\n",
      "New message from transportation@scu.edu: Dear Bronco Community, We would like to inform you that tomorrow, Friday, September 13th, the Main Parking Structure will have limited access due to re-striping and maintenance work. Ingress/egress\n",
      "New message from transportation@scu.edu: Hello Bronco Community, Please be informed that the Varsi Parking Lot and the Facilities Visitor Parking Lot will undergo restriping maintenance work on 9/11. We kindly request that you use alternative\n"
     ]
    }
   ],
   "source": [
    "last_check_time = datetime.now(UTC) - timedelta(days=100)\n",
    "poll_for_messages_from_sender(email_service, last_check_time, 'transportation@scu.edu')"
   ]
  },
  {
   "cell_type": "code",
   "execution_count": 5,
   "metadata": {},
   "outputs": [
    {
     "data": {
      "text/plain": [
       "datetime.datetime(2024, 11, 16, 13, 24, 44, 662733, tzinfo=datetime.timezone.utc)"
      ]
     },
     "execution_count": 5,
     "metadata": {},
     "output_type": "execute_result"
    }
   ],
   "source": [
    "utc_to_pst(datetime.now(timezone.utc))"
   ]
  },
  {
   "cell_type": "code",
   "execution_count": 8,
   "metadata": {},
   "outputs": [
    {
     "name": "stdout",
     "output_type": "stream",
     "text": [
      "2024-11-16 13:27:14\n"
     ]
    }
   ],
   "source": [
    "now = utc_to_pst(datetime.now(timezone.utc))\n",
    "now_string = now.strftime(\"%Y-%m-%d %H:%M:%S\")\n",
    "print(now_string)"
   ]
  },
  {
   "cell_type": "code",
   "execution_count": null,
   "metadata": {},
   "outputs": [
    {
     "name": "stdout",
     "output_type": "stream",
     "text": [
      "\n",
      "SUBJECT: Tea Invite\n",
      "BODY: Hi,\n",
      "\n",
      "I hope this message finds you well! I would like to invite you for a lovely tea gathering on November 15 at 6 PM. It would be a great opportunity to catch up and enjoy some good conversation.\n",
      "\n",
      "Looking forward to seeing you there!\n",
      "\n",
      "Best,\n",
      "Bob\n",
      "\n",
      "\n",
      "\n",
      "SUBJECT: Merry Christmas!\n",
      "BODY: Dear Andrew,\n",
      "\n",
      "As the holiday season approaches, I wanted to take a moment to wish you a Merry Christmas. Here’s a little poem to spread some cheer:\n",
      "\n",
      "In the glow of twinkling lights,\n",
      "Joy and laughter fill the nights.\n",
      "With friends and family gathered near,\n",
      "Wishing you a Christmas full of cheer.\n",
      "\n",
      "May your days be merry and bright,\n",
      "And your heart be warm with delight.\n",
      "\n",
      "Wishing you all the best this holiday season!\n",
      "\n",
      "Warm regards,\n",
      "\n",
      "[Your Name]\n",
      "\n",
      "\n",
      "\n",
      "SUBJECT: hello\n",
      "BODY: <div dir=\"ltr\">test</div>\n",
      "\n",
      "\n"
     ]
    }
   ],
   "source": []
  },
  {
   "cell_type": "code",
   "execution_count": null,
   "metadata": {},
   "outputs": [],
   "source": []
  },
  {
   "cell_type": "code",
   "execution_count": 22,
   "metadata": {},
   "outputs": [],
   "source": [
    "def get_now_string():\n",
    "    now = utc_to_pst(datetime.now(timezone.utc))\n",
    "    now_string = now.strftime(\"%Y-%m-%d %H:%M:%S\")\n",
    "    return now_string"
   ]
  },
  {
   "cell_type": "code",
   "execution_count": 23,
   "metadata": {},
   "outputs": [
    {
     "data": {
      "text/plain": [
       "'2024-11-16 14:02:40'"
      ]
     },
     "execution_count": 23,
     "metadata": {},
     "output_type": "execute_result"
    }
   ],
   "source": [
    "get_now_string()"
   ]
  },
  {
   "cell_type": "code",
   "execution_count": 47,
   "metadata": {},
   "outputs": [],
   "source": [
    "from langchain_openai.chat_models import ChatOpenAI\n",
    "\n",
    "classifier_llm = ChatOpenAI(temperature=0)\n",
    "\n",
    "def classify_email(slot_start, slot_end, subject, body):\n",
    "    classify_email_prompt = f'''\n",
    "        You are a specialized email-classification assistant. We have previously\n",
    "        contacted this person to ask them if they are available\n",
    "        for a meeting that starts at {slot_start} and ends at {slot_end}.\n",
    "        The email provided might be a response from the user confirming the meeting, or it could be\n",
    "        denying the meeting at this time, or it could be something totally unrelated.\n",
    "        Here is the email subject: {subject}\n",
    "        Here is the email body: {body}\n",
    "        Please classify this email, output a 0 if it is a confirmation, 1 if it is denial, or 2 if it is unrelated.\n",
    "    '''\n",
    "\n",
    "    response = classifier_llm.invoke(classify_email_prompt)\n",
    "    return response"
   ]
  },
  {
   "cell_type": "code",
   "execution_count": null,
   "metadata": {},
   "outputs": [
    {
     "name": "stdout",
     "output_type": "stream",
     "text": [
      "MESSAGES: 2\n",
      "MESSAGE: <div dir=\"auto\">Yes that meeting time works for me</div>\n",
      "\n",
      "content='0' additional_kwargs={'refusal': None} response_metadata={'token_usage': {'completion_tokens': 1, 'prompt_tokens': 172, 'total_tokens': 173, 'completion_tokens_details': {'accepted_prediction_tokens': 0, 'audio_tokens': 0, 'reasoning_tokens': 0, 'rejected_prediction_tokens': 0}, 'prompt_tokens_details': {'audio_tokens': 0, 'cached_tokens': 0}}, 'model_name': 'gpt-3.5-turbo-0125', 'system_fingerprint': None, 'finish_reason': 'stop', 'logprobs': None} id='run-27b4fc18-953a-4b56-b2e3-ddb2033e5ce3-0' usage_metadata={'input_tokens': 172, 'output_tokens': 1, 'total_tokens': 173, 'input_token_details': {'audio': 0, 'cache_read': 0}, 'output_token_details': {'audio': 0, 'reasoning': 0}}\n",
      "MESSAGE: <div dir=\"auto\">Yes that works for me!</div><br><div class=\"gmail_quote\"><div dir=\"ltr\" class=\"gmail_attr\">On Sat, Nov 16, 2024, 4:58 PM  &lt;<a href=\"mailto:bobbykilkins@gmail.com\">bobbykilkins@gmail.com</a>&gt; wrote:<br></div><blockquote class=\"gmail_quote\" style=\"margin:0 0 0 .8ex;border-left:1px #ccc solid;padding-left:1ex\">Hi, I hope this message finds you well. I am writing to invite you to a meeting on 2024-11-17 from 20:00 to 21:00. The meeting will last 20 minutes. Could you please confirm if you are able to attend? Your prompt response would be greatly appreciated. Thank you!\n",
      "</blockquote></div>\n",
      "\n",
      "content='The email is a confirmation of the meeting invitation. Therefore, the classification output is 0.' additional_kwargs={'refusal': None} response_metadata={'token_usage': {'completion_tokens': 19, 'prompt_tokens': 346, 'total_tokens': 365, 'completion_tokens_details': {'accepted_prediction_tokens': 0, 'audio_tokens': 0, 'reasoning_tokens': 0, 'rejected_prediction_tokens': 0}, 'prompt_tokens_details': {'audio_tokens': 0, 'cached_tokens': 0}}, 'model_name': 'gpt-3.5-turbo-0125', 'system_fingerprint': None, 'finish_reason': 'stop', 'logprobs': None} id='run-aa8e8fd3-d89e-4a65-8158-9e0e29c43248-0' usage_metadata={'input_tokens': 346, 'output_tokens': 19, 'total_tokens': 365, 'input_token_details': {'audio': 0, 'cache_read': 0}, 'output_token_details': {'audio': 0, 'reasoning': 0}}\n"
     ]
    }
   ],
   "source": [
    "# get emails\n",
    "format_string = \"%Y-%m-%d %H:%M:%S\"\n",
    "last_check_time = datetime.strptime(\"2024-11-16 16:00:38\", format_string)\n",
    "check_time_utc = pst_to_utc(last_check_time)\n",
    "\n",
    "query = f'after:{int(last_check_time.timestamp())} from:aanokhin@scu.edu'\n",
    "response = email_service.users().messages().list(\n",
    "    userId='me',\n",
    "    q=query\n",
    ").execute()\n",
    "\n",
    "messages = response.get('messages', [])\n",
    "\n",
    "print(\"MESSAGES: \" + str(len(messages)))\n",
    "\n",
    "# get email bodies\n",
    "for message in messages:\n",
    "    msg_id = message[\"id\"]\n",
    "    full_email = email_service.users().messages().get(userId='me', id=msg_id, format='full').execute()\n",
    "\n",
    "    payload = full_email.get('payload', {})\n",
    "    headers = payload.get('headers', [])\n",
    "\n",
    "    subject = next((header['value'] for header in headers if header['name'] == 'Subject'), \"No Subject\")\n",
    "\n",
    "    # Extract the email body\n",
    "    body = \"\"\n",
    "    parts = payload.get('parts', [])\n",
    "    for part in parts:\n",
    "        if part['mimeType'] == 'text/plain':  # Plain text body\n",
    "            body = part.get('body', {}).get('data', \"\")\n",
    "        elif part['mimeType'] == 'text/html':  # HTML body\n",
    "            body = part.get('body', {}).get('data', \"\")\n",
    "\n",
    "    # Decode the body if it's Base64 encoded\n",
    "    if body:\n",
    "        body = base64.urlsafe_b64decode(body).decode('utf-8')\n",
    "\n",
    "    print(\"MESSAGE: \" + str(body))\n",
    "\n",
    "    print(classify_email(\"2024-11-25 09:00:00\", \"2024-11-25 11:00:00\", subject, body))"
   ]
  },
  {
   "cell_type": "code",
   "execution_count": null,
   "metadata": {},
   "outputs": [],
   "source": [
    "async def long_running_task():\n",
    "        print(\"Task started...\")\n",
    "        config = {\"configurable\": {\"thread_id\": state[\"email\"]}}\n",
    "        for i in range(20):\n",
    "            print(f\"Task for {state[\"email\"]} is running... {i}\")\n",
    "            print(f\"INV {state[\"email\"]} is running... {i}\")\n",
    "            await asyncio.sleep(3)  # Simulates a long-running task\n",
    "            print(f\"INV: {bot.rag_graph.get_state(config=config).values[\"invitees\"]}\")\n",
    "            if bot.rag_graph.get_state(config=config).values[\"bgtask_stop\"]:\n",
    "                bot.rag_graph.update_state(config=config, values={\"bgtask_stop\": False})\n",
    "                break\n",
    "        return \"Task done\"\n",
    "\n",
    "\n",
    "\n",
    "    bg_flag = state[\"is_bgtask_running\"]\n",
    "    if not bg_flag:\n",
    "        bg_flag = True\n",
    "        config = {\"configurable\": {\"thread_id\": state[\"email\"]}}\n",
    "        bot.rag_graph.update_state(config=config, values={\"invitees\": [\"andrew.anokhin@gmail.com\"]})\n",
    "        background_task = asyncio.create_task(long_running_task())\n",
    "        background_task.add_done_callback(on_task_done)"
   ]
  },
  {
   "cell_type": "code",
   "execution_count": 74,
   "metadata": {},
   "outputs": [],
   "source": [
    "def create_event(service):\n",
    "    \"\"\"Create an event on the user's Google Calendar.\"\"\"\n",
    "    event = {\n",
    "        'summary': 'Sample Event',\n",
    "        'location': '1234 Main St, Example City',\n",
    "        'description': 'A description of the event.',\n",
    "        'start': {\n",
    "            'dateTime': '2024-11-17T09:00:00-07:00',  # Start time (ISO format)\n",
    "            'timeZone': 'America/Los_Angeles',\n",
    "        },\n",
    "        'end': {\n",
    "            'dateTime': '2024-11-17T10:00:00-07:00',  # End time (ISO format)\n",
    "            'timeZone': 'America/Los_Angeles'\n",
    "        },\n",
    "        'attendees': [\n",
    "            {'email': 'alexander.g.anokhin@gmail.com'}\n",
    "        ],\n",
    "        'reminders': {\n",
    "            'useDefault': True\n",
    "        },\n",
    "    }\n",
    "\n",
    "    try:\n",
    "        event = service.events().insert(calendarId='primary', body=event).execute()\n",
    "        print(f\"Event created: {event.get('htmlLink')}\")\n",
    "    except HttpError as error:\n",
    "        print(f\"An error occurred: {error}\")\n"
   ]
  },
  {
   "cell_type": "code",
   "execution_count": 75,
   "metadata": {},
   "outputs": [
    {
     "name": "stdout",
     "output_type": "stream",
     "text": [
      "Event created: https://www.google.com/calendar/event?eid=MXFzanNiOW5qOWQwdGs2M2ZrMm9uOGJuanMgYm9iYnlraWxraW5zQG0\n"
     ]
    }
   ],
   "source": [
    "create_event(calendar_service)"
   ]
  },
  {
   "cell_type": "code",
   "execution_count": null,
   "metadata": {},
   "outputs": [],
   "source": [
    "\n",
    "# Authenticate and create an event\n",
    "service = authenticate()\n",
    "create_event(service)"
   ]
  },
  {
   "cell_type": "code",
   "execution_count": null,
   "metadata": {},
   "outputs": [],
   "source": []
  },
  {
   "cell_type": "code",
   "execution_count": 59,
   "metadata": {},
   "outputs": [],
   "source": [
    "from googleapiclient.errors import HttpError\n"
   ]
  },
  {
   "cell_type": "code",
   "execution_count": null,
   "metadata": {},
   "outputs": [],
   "source": [
    "def create_event(creds):\n",
    "    client_id = os.environ[\"GOOGLE_CLIENT_ID\"]\n",
    "    client_secret = os.environ[\"GOOGLE_CLIENT_SECRET\"]\n",
    "    #creds = Credentials(token=access_token, refresh_token=refresh_token, client_id=client_id, client_secret=client_secret)\n",
    "    service = build('calendar', 'v3', credentials=creds)\n",
    "\n",
    "    # create event\n",
    "    event = {\n",
    "        'summary': 'Sample Event',\n",
    "        'location': '1234 Main St, Example City',\n",
    "        'description': 'A description of the event.',\n",
    "        'start': {\n",
    "            'dateTime': '2024-11-17T09:00:00-07:00',  # Start time (ISO format)\n",
    "            'timeZone': 'America/Los_Angeles',\n",
    "        },\n",
    "        'end': {\n",
    "            'dateTime': '2024-11-17T10:00:00-07:00',  # End time (ISO format)\n",
    "            'timeZone': 'America/Los_Angeles'\n",
    "        },\n",
    "        'attendees': [\n",
    "            {'email': 'alexander.g.anokhin@gmail.com'}\n",
    "        ],\n",
    "        'reminders': {\n",
    "            'useDefault': True\n",
    "        }\n",
    "    }\n",
    "\n",
    "    try:\n",
    "        event = service.events().insert(calendarId='primary', body=event).execute()\n",
    "        print(f\"Event created: {event.get('htmlLink')}\")\n",
    "    except HttpError as error:\n",
    "        print(f\"An error occurred: {error}\")"
   ]
  },
  {
   "cell_type": "code",
   "execution_count": null,
   "metadata": {},
   "outputs": [],
   "source": []
  },
  {
   "cell_type": "code",
   "execution_count": null,
   "metadata": {},
   "outputs": [],
   "source": []
  }
 ],
 "metadata": {
  "kernelspec": {
   "display_name": ".venv",
   "language": "python",
   "name": "python3"
  },
  "language_info": {
   "codemirror_mode": {
    "name": "ipython",
    "version": 3
   },
   "file_extension": ".py",
   "mimetype": "text/x-python",
   "name": "python",
   "nbconvert_exporter": "python",
   "pygments_lexer": "ipython3",
   "version": "3.13.0"
  }
 },
 "nbformat": 4,
 "nbformat_minor": 2
}
